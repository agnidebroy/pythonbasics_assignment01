{
 "cells": [
  {
   "cell_type": "raw",
   "id": "97377bc9-4e52-406b-967b-55d3ba52efc6",
   "metadata": {},
   "source": [
    "1. Write a Python program that takes a string as input and prints the length of\n",
    "the string."
   ]
  },
  {
   "cell_type": "code",
   "execution_count": 6,
   "id": "5a018a80-a17e-4718-90ac-db8cadb851c7",
   "metadata": {},
   "outputs": [],
   "source": [
    "a= \"rupa\""
   ]
  },
  {
   "cell_type": "code",
   "execution_count": 7,
   "id": "70520c44-f367-4efa-bc91-2a0793cadc3e",
   "metadata": {},
   "outputs": [
    {
     "data": {
      "text/plain": [
       "str"
      ]
     },
     "execution_count": 7,
     "metadata": {},
     "output_type": "execute_result"
    }
   ],
   "source": [
    "type (a)"
   ]
  },
  {
   "cell_type": "code",
   "execution_count": 8,
   "id": "4680aae6-426f-4ab5-94d6-615af20f5f97",
   "metadata": {},
   "outputs": [
    {
     "data": {
      "text/plain": [
       "4"
      ]
     },
     "execution_count": 8,
     "metadata": {},
     "output_type": "execute_result"
    }
   ],
   "source": [
    "len (a)"
   ]
  },
  {
   "cell_type": "markdown",
   "id": "7b928d04-7e2e-49f5-8cc4-e1c3fe40edd7",
   "metadata": {},
   "source": [
    "as we have taken the first type a as a string as mentioned in cell 2 , the length of \"a\" is also being calculated by applying len parameter so the answer of it is 4 as it contains 4 characters. The type that we have declared is also mentioned that is string. "
   ]
  },
  {
   "cell_type": "markdown",
   "id": "4cb9580d-e6e4-4f64-9b25-2af682ccd872",
   "metadata": {},
   "source": [
    "2. Create a program that takes a sentence from the user and counts the number\n",
    "of vowels (a, e, i, o, u) in the string.\n",
    "\n"
   ]
  },
  {
   "cell_type": "code",
   "execution_count": 24,
   "id": "3dabd413-50ef-4a83-b4ec-3bb22a721e73",
   "metadata": {},
   "outputs": [],
   "source": [
    "a1= \"this is my 1st assignment in pw skills\""
   ]
  },
  {
   "cell_type": "code",
   "execution_count": 25,
   "id": "3388c13f-2204-4ce4-bea6-25e6ced17ab7",
   "metadata": {},
   "outputs": [
    {
     "data": {
      "text/plain": [
       "str"
      ]
     },
     "execution_count": 25,
     "metadata": {},
     "output_type": "execute_result"
    }
   ],
   "source": [
    "type(a1)"
   ]
  },
  {
   "cell_type": "code",
   "execution_count": 26,
   "id": "37508d3d-f70e-4202-ba95-839f54821e9c",
   "metadata": {},
   "outputs": [
    {
     "data": {
      "text/plain": [
       "38"
      ]
     },
     "execution_count": 26,
     "metadata": {},
     "output_type": "execute_result"
    }
   ],
   "source": [
    "len (a1)"
   ]
  },
  {
   "cell_type": "code",
   "execution_count": 47,
   "id": "e1f81d09-ee6e-46da-8e61-b49b63231d5e",
   "metadata": {},
   "outputs": [],
   "source": [
    "vowels = \"aeiou\""
   ]
  },
  {
   "cell_type": "code",
   "execution_count": 61,
   "id": "1b98f17c-d591-403a-9270-4faf45530ea7",
   "metadata": {},
   "outputs": [
    {
     "data": {
      "text/plain": [
       "5"
      ]
     },
     "execution_count": 61,
     "metadata": {},
     "output_type": "execute_result"
    }
   ],
   "source": [
    "len (vowels)"
   ]
  },
  {
   "cell_type": "code",
   "execution_count": 63,
   "id": "748986a0-0f5f-45b2-a702-d9874af7d7e1",
   "metadata": {},
   "outputs": [
    {
     "ename": "SyntaxError",
     "evalue": "invalid syntax (489831155.py, line 1)",
     "output_type": "error",
     "traceback": [
      "\u001b[0;36m  Cell \u001b[0;32mIn[63], line 1\u001b[0;36m\u001b[0m\n\u001b[0;31m    print(a1:vowels)\u001b[0m\n\u001b[0m            ^\u001b[0m\n\u001b[0;31mSyntaxError\u001b[0m\u001b[0;31m:\u001b[0m invalid syntax\n"
     ]
    }
   ],
   "source": [
    "print(a1:vowels)"
   ]
  },
  {
   "cell_type": "markdown",
   "id": "371513ee-1fb1-4a1b-88fa-cc4c3ce09755",
   "metadata": {},
   "source": [
    "So initially w ehave declared a string"
   ]
  },
  {
   "cell_type": "code",
   "execution_count": 68,
   "id": "d229a637-aaa1-4ba1-aacb-d959a94b394d",
   "metadata": {},
   "outputs": [],
   "source": [
    "string = \"this is my 1st assignment in pw skills\""
   ]
  },
  {
   "cell_type": "markdown",
   "id": "66382956-da30-4360-8377-9b72ee38528c",
   "metadata": {},
   "source": [
    "then we have clariied the vowels in it"
   ]
  },
  {
   "cell_type": "code",
   "execution_count": 69,
   "id": "88e93947-00e0-42f4-acf0-db9b86788c6f",
   "metadata": {},
   "outputs": [],
   "source": [
    "vowels = \"aeiouAEIOU\""
   ]
  },
  {
   "cell_type": "markdown",
   "id": "eec8c56b-c844-4aef-a742-b40712a823a6",
   "metadata": {},
   "source": [
    "we then implemented the count button so that we can count whats among them are the number of  vowel from a sentence"
   ]
  },
  {
   "cell_type": "code",
   "execution_count": 70,
   "id": "fdd10fdb-b1e2-42b2-9b4b-2788bdc7b8dd",
   "metadata": {},
   "outputs": [],
   "source": [
    "\n",
    "count = sum(string.count(vowel) for vowel in vowels)"
   ]
  },
  {
   "cell_type": "code",
   "execution_count": 71,
   "id": "03fc6b30-44a3-47ad-a260-b604c6a5f571",
   "metadata": {},
   "outputs": [
    {
     "name": "stdout",
     "output_type": "stream",
     "text": [
      "7\n"
     ]
    }
   ],
   "source": [
    "print(count)"
   ]
  },
  {
   "cell_type": "markdown",
   "id": "600df1ae-9826-4263-9407-2dd967125c47",
   "metadata": {},
   "source": [
    "then we printed the count button to get into the amount of vowels present in the sentence by printing it"
   ]
  },
  {
   "cell_type": "markdown",
   "id": "de98aa76-01aa-40a5-af80-82a1925990a6",
   "metadata": {},
   "source": [
    "3. Given a string, reverse the order of characters using string slicing and print\n",
    "the reversed string."
   ]
  },
  {
   "cell_type": "code",
   "execution_count": 3,
   "id": "90f7e363-11f9-48c9-9cac-6fdee2649ad3",
   "metadata": {},
   "outputs": [],
   "source": [
    "s1 = \"assignment\""
   ]
  },
  {
   "cell_type": "code",
   "execution_count": 16,
   "id": "0cffe500-4aa5-4907-af46-f84146f0ab02",
   "metadata": {},
   "outputs": [
    {
     "data": {
      "text/plain": [
       "'tnemngissa'"
      ]
     },
     "execution_count": 16,
     "metadata": {},
     "output_type": "execute_result"
    }
   ],
   "source": [
    "s1 [9::-1]"
   ]
  },
  {
   "cell_type": "markdown",
   "id": "b54785a2-cbc5-48bf-b10d-31df0509a462",
   "metadata": {},
   "source": [
    "basically what we have done is we have taken a string and used slicing to reverse its order so we have to put -1 as its reversing its direcrion as asked for a reverse order and colon at  the missle so that it can attain the last alphabet from the string. and 9 characters as total no of characters is n-1 i.e 10-1=9 "
   ]
  },
  {
   "cell_type": "markdown",
   "id": "8ef0f856-8b0c-4adf-9c6a-584c9ef91de7",
   "metadata": {},
   "source": [
    "4. Write a program that takes a string as input and checks if it is a palindrome\n",
    "(reads the same forwards and backwards)."
   ]
  },
  {
   "cell_type": "code",
   "execution_count": 17,
   "id": "77776357-b96b-48b9-8861-29ba2ac49285",
   "metadata": {},
   "outputs": [],
   "source": [
    "s2= \"madam\""
   ]
  },
  {
   "cell_type": "code",
   "execution_count": 19,
   "id": "4307ab2f-61f1-4148-9d65-235d1a22432f",
   "metadata": {},
   "outputs": [
    {
     "data": {
      "text/plain": [
       "'madam'"
      ]
     },
     "execution_count": 19,
     "metadata": {},
     "output_type": "execute_result"
    }
   ],
   "source": [
    "s2[0::1]"
   ]
  },
  {
   "cell_type": "code",
   "execution_count": 20,
   "id": "b50e77b0-25e4-4b4d-a809-e724b1867f17",
   "metadata": {},
   "outputs": [
    {
     "data": {
      "text/plain": [
       "'madam'"
      ]
     },
     "execution_count": 20,
     "metadata": {},
     "output_type": "execute_result"
    }
   ],
   "source": [
    "s2[4::-1]"
   ]
  },
  {
   "cell_type": "markdown",
   "id": "b867de5b-b6b0-432b-bfd1-4d877eb74f7b",
   "metadata": {},
   "source": [
    "using slicing technique we can check whether it is giving the same result as palindrome or not so when i applied in s2 it gives me the same result thus its a palindrome."
   ]
  },
  {
   "cell_type": "code",
   "execution_count": 21,
   "id": "224ffc35-2998-4511-a69b-019aa9befd6b",
   "metadata": {},
   "outputs": [],
   "source": [
    "s3=\"assignment\""
   ]
  },
  {
   "cell_type": "code",
   "execution_count": 22,
   "id": "f18c148e-269c-4350-b5bf-ae01c0ab88c7",
   "metadata": {},
   "outputs": [
    {
     "data": {
      "text/plain": [
       "'assignment'"
      ]
     },
     "execution_count": 22,
     "metadata": {},
     "output_type": "execute_result"
    }
   ],
   "source": [
    "s3[0::1]\n"
   ]
  },
  {
   "cell_type": "code",
   "execution_count": 23,
   "id": "aa98a914-320c-441a-bd34-48f0a0be4e17",
   "metadata": {},
   "outputs": [
    {
     "data": {
      "text/plain": [
       "'tnemngissa'"
      ]
     },
     "execution_count": 23,
     "metadata": {},
     "output_type": "execute_result"
    }
   ],
   "source": [
    "s3[9::-1]"
   ]
  },
  {
   "cell_type": "markdown",
   "id": "5d88f126-8319-470e-9486-0d7e943d30a0",
   "metadata": {},
   "source": [
    "no as the characters are not same its not a palindrome \n",
    "for it to be a palindrome all the character position must be matched."
   ]
  },
  {
   "cell_type": "markdown",
   "id": "b2d30884-a834-4e0f-8ebf-c6e975715b57",
   "metadata": {},
   "source": [
    "5. Create a program that takes a string as input and removes all the spaces from\n",
    "it. Print the modified string without spaces."
   ]
  },
  {
   "cell_type": "code",
   "execution_count": 23,
   "id": "145efe8e-ac28-4d26-949c-08f7e1e4764a",
   "metadata": {},
   "outputs": [],
   "source": [
    "S1=\"ilove\""
   ]
  },
  {
   "cell_type": "code",
   "execution_count": 24,
   "id": "c759cddf-52f6-42aa-8148-71d9fd948c43",
   "metadata": {},
   "outputs": [],
   "source": [
    "S2=\"PWSKILLS\""
   ]
  },
  {
   "cell_type": "code",
   "execution_count": 25,
   "id": "e377e2ae-a5db-4087-8ee1-c30e00d7ceb0",
   "metadata": {},
   "outputs": [
    {
     "data": {
      "text/plain": [
       "'ilovePWSKILLS'"
      ]
     },
     "execution_count": 25,
     "metadata": {},
     "output_type": "execute_result"
    }
   ],
   "source": [
    "S1+S2"
   ]
  },
  {
   "cell_type": "markdown",
   "id": "f9294123-07c0-4f4e-bfbd-763dbd56f403",
   "metadata": {},
   "source": [
    "IN this both of them are strings s1 and s2 where we have applied concanation of two strings concept and removed all the spaces from the strings while adding it."
   ]
  }
 ],
 "metadata": {
  "kernelspec": {
   "display_name": "Python 3 (ipykernel)",
   "language": "python",
   "name": "python3"
  },
  "language_info": {
   "codemirror_mode": {
    "name": "ipython",
    "version": 3
   },
   "file_extension": ".py",
   "mimetype": "text/x-python",
   "name": "python",
   "nbconvert_exporter": "python",
   "pygments_lexer": "ipython3",
   "version": "3.10.8"
  }
 },
 "nbformat": 4,
 "nbformat_minor": 5
}
